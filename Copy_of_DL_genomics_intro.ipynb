{
  "nbformat": 4,
  "nbformat_minor": 0,
  "metadata": {
    "colab": {
      "name": "Copy of DL_genomics_intro.ipynb",
      "provenance": [],
      "collapsed_sections": [],
      "toc_visible": true,
      "include_colab_link": true
    },
    "kernelspec": {
      "name": "python3",
      "display_name": "Python 3"
    },
    "accelerator": "GPU"
  },
  "cells": [
    {
      "cell_type": "markdown",
      "metadata": {
        "id": "view-in-github",
        "colab_type": "text"
      },
      "source": [
        "<a href=\"https://colab.research.google.com/github/CharmaineLang/obds_charmaine/blob/master/Copy_of_DL_genomics_intro.ipynb\" target=\"_parent\"><img src=\"https://colab.research.google.com/assets/colab-badge.svg\" alt=\"Open In Colab\"/></a>"
      ]
    },
    {
      "cell_type": "markdown",
      "metadata": {
        "id": "59DLQSAO7PBm",
        "colab_type": "text"
      },
      "source": [
        "# Tutorial - Deep Learning for Genomics \n",
        "\n",
        "\n",
        "\n",
        "In this tutorial we will use a convolutional neuronal network to address a fairly basic but common problem in genomics. Given a set of sequences belonging to different classes, what are the characteristics in the DNA sequence that let us distinguish the classes. For example, given a set of promoter and enhancer sequences, we could ask if there are any patterns in the DNA that let us distinguish between the two.\n",
        "\n",
        "For a 'simple' example, think of two ChIP-seq experiments for two different transcription factors. After analysing the ChIP-seq data, we know at what positions in the genome the two factors bind and the majority of binding sites might be distinct. If we extract the underlying sequences and search for DNA patterns that are enriched in the respective sets, we get an idea what DNA sequences the transcription factor might bind and/or which co-factors influence their binding.\n",
        "\n",
        "Traditionally, people use motif discovery tools for finding overrepresented words and motifs. However, if we move to slightly more complicated questions these methods quickly reach their limits and machine learning approaches become more promising.\n",
        "\n",
        "A more complicated question: If we have multiple sets of enhancers that are active in different tissues and cell types and we have the underlying sequences, can we figure out what sequence patterns are characteristic for what activity? And once we know that can we infer which factors are common and which are tissue specific?\n",
        "\n",
        "For our test dataset we have a simplfied, simulated version of such a task. We simulated 40,000 DNA sequences of length 200 bp. We split them into 4 enhancer classes and populated them with transcription factor binding motifs and other DNA patters to make them distinguishable. However, some motifs are shared between classes, they may overlap each other and are not necessarily perfect matches to the text book motifs. Thats much more how regulatory DNA actually looks like :)!\n",
        "\n",
        "We will use keras to build and train a small convolutional neuronal network to classify our enhancer sequences. Once this network is trained well, we can than investigate how the network has learned to distinguish between the classes and try to relate this back to transcriptions factor motifs and so on.\n",
        "\n",
        "------------\n",
        "\n",
        "You can run the tutorial in this colab notebook or checkout (and clone) the github repository (https://github.com/rschwess/tutorial_dl_for_genomics). From there you can either run everything in an interactive python or ipython session or (especially later when optimizing) just adjust and run python dl_intro.py in the terminal.\n",
        "\n",
        "----------------\n",
        "\n",
        "## Set up \n",
        "\n",
        "We will start by downloading the tutorial data. There are more data available on github if you want to work on a slightly more difficult set. "
      ]
    },
    {
      "cell_type": "code",
      "metadata": {
        "id": "68wKlyer7Hti",
        "colab_type": "code",
        "outputId": "179ce2c2-39a2-4c6d-b160-1ceb6253bbce",
        "colab": {
          "base_uri": "https://localhost:8080/",
          "height": 173
        }
      },
      "source": [
        "%%bash\n",
        "\n",
        "# Download Example Data --------------------------------------------------------\n",
        "\n",
        "rm -rf ./sample_data/\n",
        "\n",
        "mkdir -p data\n",
        "\n",
        "rm -f ./data/*\n",
        "\n",
        "curl https://raw.githubusercontent.com/rschwess/tutorial_dl_for_genomics/master/data/pwm_seq_200bp_test_set.txt >./data/pwm_seq_200bp_test_set.txt\n",
        "curl https://raw.githubusercontent.com/rschwess/tutorial_dl_for_genomics/master/data/pwm_seq_200bp_valid_set.txt >./data/pwm_seq_200bp_valid_set.txt\n",
        "curl https://raw.githubusercontent.com/rschwess/tutorial_dl_for_genomics/master/data/pwm_seq_200bp_train_set.txt >./data/pwm_seq_200bp_train_set.txt\n"
      ],
      "execution_count": 0,
      "outputs": [
        {
          "output_type": "stream",
          "text": [
            "  % Total    % Received % Xferd  Average Speed   Time    Time     Time  Current\n",
            "                                 Dload  Upload   Total   Spent    Left  Speed\n",
            "\r  0     0    0     0    0     0      0      0 --:--:-- --:--:-- --:--:--     0\r100  198k  100  198k    0     0   832k      0 --:--:-- --:--:-- --:--:--  832k\n",
            "  % Total    % Received % Xferd  Average Speed   Time    Time     Time  Current\n",
            "                                 Dload  Upload   Total   Spent    Left  Speed\n",
            "\r  0     0    0     0    0     0      0      0 --:--:-- --:--:-- --:--:--     0\r  0  198k    0  1872    0     0  13866      0  0:00:14 --:--:--  0:00:14 13764\r100  198k  100  198k    0     0  1145k      0 --:--:-- --:--:-- --:--:-- 1139k\n",
            "  % Total    % Received % Xferd  Average Speed   Time    Time     Time  Current\n",
            "                                 Dload  Upload   Total   Spent    Left  Speed\n",
            "\r  0     0    0     0    0     0      0      0 --:--:-- --:--:-- --:--:--     0\r100 7533k  100 7533k    0     0  19.6M      0 --:--:-- --:--:-- --:--:-- 19.6M\n"
          ],
          "name": "stderr"
        }
      ]
    },
    {
      "cell_type": "code",
      "metadata": {
        "id": "WG23xMgboNNG",
        "colab_type": "code",
        "outputId": "d6e2bdf8-9b75-4527-dd33-785f7bc9db84",
        "colab": {
          "resources": {
            "http://localhost:8080/nbextensions/google.colab/files.js": {
              "data": "Ly8gQ29weXJpZ2h0IDIwMTcgR29vZ2xlIExMQwovLwovLyBMaWNlbnNlZCB1bmRlciB0aGUgQXBhY2hlIExpY2Vuc2UsIFZlcnNpb24gMi4wICh0aGUgIkxpY2Vuc2UiKTsKLy8geW91IG1heSBub3QgdXNlIHRoaXMgZmlsZSBleGNlcHQgaW4gY29tcGxpYW5jZSB3aXRoIHRoZSBMaWNlbnNlLgovLyBZb3UgbWF5IG9idGFpbiBhIGNvcHkgb2YgdGhlIExpY2Vuc2UgYXQKLy8KLy8gICAgICBodHRwOi8vd3d3LmFwYWNoZS5vcmcvbGljZW5zZXMvTElDRU5TRS0yLjAKLy8KLy8gVW5sZXNzIHJlcXVpcmVkIGJ5IGFwcGxpY2FibGUgbGF3IG9yIGFncmVlZCB0byBpbiB3cml0aW5nLCBzb2Z0d2FyZQovLyBkaXN0cmlidXRlZCB1bmRlciB0aGUgTGljZW5zZSBpcyBkaXN0cmlidXRlZCBvbiBhbiAiQVMgSVMiIEJBU0lTLAovLyBXSVRIT1VUIFdBUlJBTlRJRVMgT1IgQ09ORElUSU9OUyBPRiBBTlkgS0lORCwgZWl0aGVyIGV4cHJlc3Mgb3IgaW1wbGllZC4KLy8gU2VlIHRoZSBMaWNlbnNlIGZvciB0aGUgc3BlY2lmaWMgbGFuZ3VhZ2UgZ292ZXJuaW5nIHBlcm1pc3Npb25zIGFuZAovLyBsaW1pdGF0aW9ucyB1bmRlciB0aGUgTGljZW5zZS4KCi8qKgogKiBAZmlsZW92ZXJ2aWV3IEhlbHBlcnMgZm9yIGdvb2dsZS5jb2xhYiBQeXRob24gbW9kdWxlLgogKi8KKGZ1bmN0aW9uKHNjb3BlKSB7CmZ1bmN0aW9uIHNwYW4odGV4dCwgc3R5bGVBdHRyaWJ1dGVzID0ge30pIHsKICBjb25zdCBlbGVtZW50ID0gZG9jdW1lbnQuY3JlYXRlRWxlbWVudCgnc3BhbicpOwogIGVsZW1lbnQudGV4dENvbnRlbnQgPSB0ZXh0OwogIGZvciAoY29uc3Qga2V5IG9mIE9iamVjdC5rZXlzKHN0eWxlQXR0cmlidXRlcykpIHsKICAgIGVsZW1lbnQuc3R5bGVba2V5XSA9IHN0eWxlQXR0cmlidXRlc1trZXldOwogIH0KICByZXR1cm4gZWxlbWVudDsKfQoKLy8gTWF4IG51bWJlciBvZiBieXRlcyB3aGljaCB3aWxsIGJlIHVwbG9hZGVkIGF0IGEgdGltZS4KY29uc3QgTUFYX1BBWUxPQURfU0laRSA9IDEwMCAqIDEwMjQ7Ci8vIE1heCBhbW91bnQgb2YgdGltZSB0byBibG9jayB3YWl0aW5nIGZvciB0aGUgdXNlci4KY29uc3QgRklMRV9DSEFOR0VfVElNRU9VVF9NUyA9IDMwICogMTAwMDsKCmZ1bmN0aW9uIF91cGxvYWRGaWxlcyhpbnB1dElkLCBvdXRwdXRJZCkgewogIGNvbnN0IHN0ZXBzID0gdXBsb2FkRmlsZXNTdGVwKGlucHV0SWQsIG91dHB1dElkKTsKICBjb25zdCBvdXRwdXRFbGVtZW50ID0gZG9jdW1lbnQuZ2V0RWxlbWVudEJ5SWQob3V0cHV0SWQpOwogIC8vIENhY2hlIHN0ZXBzIG9uIHRoZSBvdXRwdXRFbGVtZW50IHRvIG1ha2UgaXQgYXZhaWxhYmxlIGZvciB0aGUgbmV4dCBjYWxsCiAgLy8gdG8gdXBsb2FkRmlsZXNDb250aW51ZSBmcm9tIFB5dGhvbi4KICBvdXRwdXRFbGVtZW50LnN0ZXBzID0gc3RlcHM7CgogIHJldHVybiBfdXBsb2FkRmlsZXNDb250aW51ZShvdXRwdXRJZCk7Cn0KCi8vIFRoaXMgaXMgcm91Z2hseSBhbiBhc3luYyBnZW5lcmF0b3IgKG5vdCBzdXBwb3J0ZWQgaW4gdGhlIGJyb3dzZXIgeWV0KSwKLy8gd2hlcmUgdGhlcmUgYXJlIG11bHRpcGxlIGFzeW5jaHJvbm91cyBzdGVwcyBhbmQgdGhlIFB5dGhvbiBzaWRlIGlzIGdvaW5nCi8vIHRvIHBvbGwgZm9yIGNvbXBsZXRpb24gb2YgZWFjaCBzdGVwLgovLyBUaGlzIHVzZXMgYSBQcm9taXNlIHRvIGJsb2NrIHRoZSBweXRob24gc2lkZSBvbiBjb21wbGV0aW9uIG9mIGVhY2ggc3RlcCwKLy8gdGhlbiBwYXNzZXMgdGhlIHJlc3VsdCBvZiB0aGUgcHJldmlvdXMgc3RlcCBhcyB0aGUgaW5wdXQgdG8gdGhlIG5leHQgc3RlcC4KZnVuY3Rpb24gX3VwbG9hZEZpbGVzQ29udGludWUob3V0cHV0SWQpIHsKICBjb25zdCBvdXRwdXRFbGVtZW50ID0gZG9jdW1lbnQuZ2V0RWxlbWVudEJ5SWQob3V0cHV0SWQpOwogIGNvbnN0IHN0ZXBzID0gb3V0cHV0RWxlbWVudC5zdGVwczsKCiAgY29uc3QgbmV4dCA9IHN0ZXBzLm5leHQob3V0cHV0RWxlbWVudC5sYXN0UHJvbWlzZVZhbHVlKTsKICByZXR1cm4gUHJvbWlzZS5yZXNvbHZlKG5leHQudmFsdWUucHJvbWlzZSkudGhlbigodmFsdWUpID0+IHsKICAgIC8vIENhY2hlIHRoZSBsYXN0IHByb21pc2UgdmFsdWUgdG8gbWFrZSBpdCBhdmFpbGFibGUgdG8gdGhlIG5leHQKICAgIC8vIHN0ZXAgb2YgdGhlIGdlbmVyYXRvci4KICAgIG91dHB1dEVsZW1lbnQubGFzdFByb21pc2VWYWx1ZSA9IHZhbHVlOwogICAgcmV0dXJuIG5leHQudmFsdWUucmVzcG9uc2U7CiAgfSk7Cn0KCi8qKgogKiBHZW5lcmF0b3IgZnVuY3Rpb24gd2hpY2ggaXMgY2FsbGVkIGJldHdlZW4gZWFjaCBhc3luYyBzdGVwIG9mIHRoZSB1cGxvYWQKICogcHJvY2Vzcy4KICogQHBhcmFtIHtzdHJpbmd9IGlucHV0SWQgRWxlbWVudCBJRCBvZiB0aGUgaW5wdXQgZmlsZSBwaWNrZXIgZWxlbWVudC4KICogQHBhcmFtIHtzdHJpbmd9IG91dHB1dElkIEVsZW1lbnQgSUQgb2YgdGhlIG91dHB1dCBkaXNwbGF5LgogKiBAcmV0dXJuIHshSXRlcmFibGU8IU9iamVjdD59IEl0ZXJhYmxlIG9mIG5leHQgc3RlcHMuCiAqLwpmdW5jdGlvbiogdXBsb2FkRmlsZXNTdGVwKGlucHV0SWQsIG91dHB1dElkKSB7CiAgY29uc3QgaW5wdXRFbGVtZW50ID0gZG9jdW1lbnQuZ2V0RWxlbWVudEJ5SWQoaW5wdXRJZCk7CiAgaW5wdXRFbGVtZW50LmRpc2FibGVkID0gZmFsc2U7CgogIGNvbnN0IG91dHB1dEVsZW1lbnQgPSBkb2N1bWVudC5nZXRFbGVtZW50QnlJZChvdXRwdXRJZCk7CiAgb3V0cHV0RWxlbWVudC5pbm5lckhUTUwgPSAnJzsKCiAgY29uc3QgcGlja2VkUHJvbWlzZSA9IG5ldyBQcm9taXNlKChyZXNvbHZlKSA9PiB7CiAgICBpbnB1dEVsZW1lbnQuYWRkRXZlbnRMaXN0ZW5lcignY2hhbmdlJywgKGUpID0+IHsKICAgICAgcmVzb2x2ZShlLnRhcmdldC5maWxlcyk7CiAgICB9KTsKICB9KTsKCiAgY29uc3QgY2FuY2VsID0gZG9jdW1lbnQuY3JlYXRlRWxlbWVudCgnYnV0dG9uJyk7CiAgaW5wdXRFbGVtZW50LnBhcmVudEVsZW1lbnQuYXBwZW5kQ2hpbGQoY2FuY2VsKTsKICBjYW5jZWwudGV4dENvbnRlbnQgPSAnQ2FuY2VsIHVwbG9hZCc7CiAgY29uc3QgY2FuY2VsUHJvbWlzZSA9IG5ldyBQcm9taXNlKChyZXNvbHZlKSA9PiB7CiAgICBjYW5jZWwub25jbGljayA9ICgpID0+IHsKICAgICAgcmVzb2x2ZShudWxsKTsKICAgIH07CiAgfSk7CgogIC8vIENhbmNlbCB1cGxvYWQgaWYgdXNlciBoYXNuJ3QgcGlja2VkIGFueXRoaW5nIGluIHRpbWVvdXQuCiAgY29uc3QgdGltZW91dFByb21pc2UgPSBuZXcgUHJvbWlzZSgocmVzb2x2ZSkgPT4gewogICAgc2V0VGltZW91dCgoKSA9PiB7CiAgICAgIHJlc29sdmUobnVsbCk7CiAgICB9LCBGSUxFX0NIQU5HRV9USU1FT1VUX01TKTsKICB9KTsKCiAgLy8gV2FpdCBmb3IgdGhlIHVzZXIgdG8gcGljayB0aGUgZmlsZXMuCiAgY29uc3QgZmlsZXMgPSB5aWVsZCB7CiAgICBwcm9taXNlOiBQcm9taXNlLnJhY2UoW3BpY2tlZFByb21pc2UsIHRpbWVvdXRQcm9taXNlLCBjYW5jZWxQcm9taXNlXSksCiAgICByZXNwb25zZTogewogICAgICBhY3Rpb246ICdzdGFydGluZycsCiAgICB9CiAgfTsKCiAgaWYgKCFmaWxlcykgewogICAgcmV0dXJuIHsKICAgICAgcmVzcG9uc2U6IHsKICAgICAgICBhY3Rpb246ICdjb21wbGV0ZScsCiAgICAgIH0KICAgIH07CiAgfQoKICBjYW5jZWwucmVtb3ZlKCk7CgogIC8vIERpc2FibGUgdGhlIGlucHV0IGVsZW1lbnQgc2luY2UgZnVydGhlciBwaWNrcyBhcmUgbm90IGFsbG93ZWQuCiAgaW5wdXRFbGVtZW50LmRpc2FibGVkID0gdHJ1ZTsKCiAgZm9yIChjb25zdCBmaWxlIG9mIGZpbGVzKSB7CiAgICBjb25zdCBsaSA9IGRvY3VtZW50LmNyZWF0ZUVsZW1lbnQoJ2xpJyk7CiAgICBsaS5hcHBlbmQoc3BhbihmaWxlLm5hbWUsIHtmb250V2VpZ2h0OiAnYm9sZCd9KSk7CiAgICBsaS5hcHBlbmQoc3BhbigKICAgICAgICBgKCR7ZmlsZS50eXBlIHx8ICduL2EnfSkgLSAke2ZpbGUuc2l6ZX0gYnl0ZXMsIGAgKwogICAgICAgIGBsYXN0IG1vZGlmaWVkOiAkewogICAgICAgICAgICBmaWxlLmxhc3RNb2RpZmllZERhdGUgPyBmaWxlLmxhc3RNb2RpZmllZERhdGUudG9Mb2NhbGVEYXRlU3RyaW5nKCkgOgogICAgICAgICAgICAgICAgICAgICAgICAgICAgICAgICAgICAnbi9hJ30gLSBgKSk7CiAgICBjb25zdCBwZXJjZW50ID0gc3BhbignMCUgZG9uZScpOwogICAgbGkuYXBwZW5kQ2hpbGQocGVyY2VudCk7CgogICAgb3V0cHV0RWxlbWVudC5hcHBlbmRDaGlsZChsaSk7CgogICAgY29uc3QgZmlsZURhdGFQcm9taXNlID0gbmV3IFByb21pc2UoKHJlc29sdmUpID0+IHsKICAgICAgY29uc3QgcmVhZGVyID0gbmV3IEZpbGVSZWFkZXIoKTsKICAgICAgcmVhZGVyLm9ubG9hZCA9IChlKSA9PiB7CiAgICAgICAgcmVzb2x2ZShlLnRhcmdldC5yZXN1bHQpOwogICAgICB9OwogICAgICByZWFkZXIucmVhZEFzQXJyYXlCdWZmZXIoZmlsZSk7CiAgICB9KTsKICAgIC8vIFdhaXQgZm9yIHRoZSBkYXRhIHRvIGJlIHJlYWR5LgogICAgbGV0IGZpbGVEYXRhID0geWllbGQgewogICAgICBwcm9taXNlOiBmaWxlRGF0YVByb21pc2UsCiAgICAgIHJlc3BvbnNlOiB7CiAgICAgICAgYWN0aW9uOiAnY29udGludWUnLAogICAgICB9CiAgICB9OwoKICAgIC8vIFVzZSBhIGNodW5rZWQgc2VuZGluZyB0byBhdm9pZCBtZXNzYWdlIHNpemUgbGltaXRzLiBTZWUgYi82MjExNTY2MC4KICAgIGxldCBwb3NpdGlvbiA9IDA7CiAgICB3aGlsZSAocG9zaXRpb24gPCBmaWxlRGF0YS5ieXRlTGVuZ3RoKSB7CiAgICAgIGNvbnN0IGxlbmd0aCA9IE1hdGgubWluKGZpbGVEYXRhLmJ5dGVMZW5ndGggLSBwb3NpdGlvbiwgTUFYX1BBWUxPQURfU0laRSk7CiAgICAgIGNvbnN0IGNodW5rID0gbmV3IFVpbnQ4QXJyYXkoZmlsZURhdGEsIHBvc2l0aW9uLCBsZW5ndGgpOwogICAgICBwb3NpdGlvbiArPSBsZW5ndGg7CgogICAgICBjb25zdCBiYXNlNjQgPSBidG9hKFN0cmluZy5mcm9tQ2hhckNvZGUuYXBwbHkobnVsbCwgY2h1bmspKTsKICAgICAgeWllbGQgewogICAgICAgIHJlc3BvbnNlOiB7CiAgICAgICAgICBhY3Rpb246ICdhcHBlbmQnLAogICAgICAgICAgZmlsZTogZmlsZS5uYW1lLAogICAgICAgICAgZGF0YTogYmFzZTY0LAogICAgICAgIH0sCiAgICAgIH07CiAgICAgIHBlcmNlbnQudGV4dENvbnRlbnQgPQogICAgICAgICAgYCR7TWF0aC5yb3VuZCgocG9zaXRpb24gLyBmaWxlRGF0YS5ieXRlTGVuZ3RoKSAqIDEwMCl9JSBkb25lYDsKICAgIH0KICB9CgogIC8vIEFsbCBkb25lLgogIHlpZWxkIHsKICAgIHJlc3BvbnNlOiB7CiAgICAgIGFjdGlvbjogJ2NvbXBsZXRlJywKICAgIH0KICB9Owp9CgpzY29wZS5nb29nbGUgPSBzY29wZS5nb29nbGUgfHwge307CnNjb3BlLmdvb2dsZS5jb2xhYiA9IHNjb3BlLmdvb2dsZS5jb2xhYiB8fCB7fTsKc2NvcGUuZ29vZ2xlLmNvbGFiLl9maWxlcyA9IHsKICBfdXBsb2FkRmlsZXMsCiAgX3VwbG9hZEZpbGVzQ29udGludWUsCn07Cn0pKHNlbGYpOwo=",
              "ok": true,
              "headers": [
                [
                  "content-type",
                  "application/javascript"
                ]
              ],
              "status": 200,
              "status_text": "OK"
            }
          },
          "base_uri": "https://localhost:8080/",
          "height": 54
        }
      },
      "source": [
        "# # for local\n",
        "# from google.colab import files\n",
        "# uploaded = files.upload()"
      ],
      "execution_count": 0,
      "outputs": [
        {
          "output_type": "display_data",
          "data": {
            "text/html": [
              "\n",
              "     <input type=\"file\" id=\"files-2d11db82-3539-4269-9bd0-7c29a58c6615\" name=\"files[]\" multiple disabled />\n",
              "     <output id=\"result-2d11db82-3539-4269-9bd0-7c29a58c6615\">\n",
              "      Upload widget is only available when the cell has been executed in the\n",
              "      current browser session. Please rerun this cell to enable.\n",
              "      </output>\n",
              "      <script src=\"/nbextensions/google.colab/files.js\"></script> "
            ],
            "text/plain": [
              "<IPython.core.display.HTML object>"
            ]
          },
          "metadata": {
            "tags": []
          }
        }
      ]
    },
    {
      "cell_type": "code",
      "metadata": {
        "id": "bnkSDL5RY1ci",
        "colab_type": "code",
        "outputId": "8bac2b58-6771-425a-e694-1b0987e50ab3",
        "colab": {
          "base_uri": "https://localhost:8080/",
          "height": 173
        }
      },
      "source": [
        "%%bash\n",
        "\n",
        "# Create some directories and download helper scripts for later ----------------\n",
        "mkdir -p helper visualize\n",
        "\n",
        "curl https://raw.githubusercontent.com/rschwess/tutorial_dl_for_genomics/master/helper/functions_for_motif_plotting.R >./helper/functions_for_motif_plotting.R\n",
        "curl https://raw.githubusercontent.com/rschwess/tutorial_dl_for_genomics/master/helper/plot_sequence_kernel_weights_per_dir.R >./helper/plot_sequence_kernel_weights_per_dir.R\n",
        "curl https://raw.githubusercontent.com/rschwess/tutorial_dl_for_genomics/master/helper/plot_sequence_kernel_icms_per_dir.R >./helper/plot_sequence_kernel_icms_per_dir.R\n"
      ],
      "execution_count": 0,
      "outputs": [
        {
          "output_type": "stream",
          "text": [
            "  % Total    % Received % Xferd  Average Speed   Time    Time     Time  Current\n",
            "                                 Dload  Upload   Total   Spent    Left  Speed\n",
            "\r  0     0    0     0    0     0      0      0 --:--:-- --:--:-- --:--:--     0\r100 18139  100 18139    0     0   123k      0 --:--:-- --:--:-- --:--:--  123k\n",
            "  % Total    % Received % Xferd  Average Speed   Time    Time     Time  Current\n",
            "                                 Dload  Upload   Total   Spent    Left  Speed\n",
            "\r  0     0    0     0    0     0      0      0 --:--:-- --:--:-- --:--:--     0\r100  1512  100  1512    0     0   6631      0 --:--:-- --:--:-- --:--:--  6602\r100  1512  100  1512    0     0   6602      0 --:--:-- --:--:-- --:--:--  6573\n",
            "  % Total    % Received % Xferd  Average Speed   Time    Time     Time  Current\n",
            "                                 Dload  Upload   Total   Spent    Left  Speed\n",
            "\r  0     0    0     0    0     0      0      0 --:--:-- --:--:-- --:--:--     0\r100  1510  100  1510    0     0  11021      0 --:--:-- --:--:-- --:--:-- 11021\n"
          ],
          "name": "stderr"
        }
      ]
    },
    {
      "cell_type": "markdown",
      "metadata": {
        "id": "-7YlfP_RIPUd",
        "colab_type": "text"
      },
      "source": [
        "Lets start by looking at the data. We have 40,000 sequences and they are all labeled with their respective class. We already split them up into training, test and validation set. It is also a good idea to check if our classes are roughly equally distributed across our different sets."
      ]
    },
    {
      "cell_type": "code",
      "metadata": {
        "id": "2xI_e2JEIPhX",
        "colab_type": "code",
        "colab": {}
      },
      "source": [
        "%%bash \n",
        "\n",
        "#%%bash tells it that it is running bash code not python\n",
        "#Check Data Layout ###########################\n",
        "\n",
        "# check lines per set\n",
        "echo \"Numbers:\"\n",
        "wc -l ./data/pwm*\n",
        "\n",
        "# check data format\n",
        "echo -ne \"\\nFormat\\n\"\n",
        "head -n 3 ./data/pwm_seq_200bp_test_set.txt\n",
        "\n",
        "# check class representation\n",
        "echo -ne \"\\nClass Representations:\\n\"\n",
        "\n",
        "echo -ne \"\\nTraining:\\n\"\n",
        "cut -f 1 ./data/pwm_seq_200bp_train_set.txt | sort | uniq -c\n",
        "echo -ne \"\\nTest:\\n\"\n",
        "cut -f 1 ./data/pwm_seq_200bp_test_set.txt | sort | uniq -c\n",
        "echo -ne \"\\nValidation:\\n\"\n",
        "cut -f 1 ./data/pwm_seq_200bp_valid_set.txt | sort | uniq -c\n",
        "\n"
      ],
      "execution_count": 0,
      "outputs": []
    },
    {
      "cell_type": "markdown",
      "metadata": {
        "id": "lpkUq8kjKv8s",
        "colab_type": "text"
      },
      "source": [
        "\n",
        "Looks good, lets move straight in! We will use keras with tensorflow as its backend. Keras is ideal for quickly writing down and prototyping networks in just a few lines of code. The documentation site will be usefull throught the tutorial https://keras.io/.\n",
        "\n",
        "We import keras and the relevant layers and operations we need.\n"
      ]
    },
    {
      "cell_type": "code",
      "metadata": {
        "id": "2XjUxMEwKwMp",
        "colab_type": "code",
        "colab": {}
      },
      "source": [
        "# IMPORTING MODULES\n",
        "%tensorflow_version 1.x\n",
        "\n",
        "import keras\n",
        "\n",
        "from keras.models import Sequential\n",
        "from keras.layers import Dense, Flatten\n",
        "from keras.layers import Conv1D, MaxPooling1D\n",
        "\n",
        "from tensorflow.keras.layers import Conv1D, Dense, MaxPooling1D, Flatten, Dropout\n",
        "from tensorflow.keras.models import Sequential\n",
        "import numpy as np\n",
        "import os\n",
        "import matplotlib.pyplot as plt"
      ],
      "execution_count": 0,
      "outputs": []
    },
    {
      "cell_type": "markdown",
      "metadata": {
        "id": "OCzDfI2mK898",
        "colab_type": "text"
      },
      "source": [
        "I wrote two helper functions to convert the sequences into hot encoded sequences and a wrapper to read in and assemble the data. Feel free to skip over this but you might want to have a quick look and understand how we format the data. The hot encoding transforms the sequence into an X x 4 array whith rows corresponding to the sequence position and the columns representing the 4 DNA bases. The respective base column that matches the sequence at that position is 1 the rest 0.\n"
      ]
    },
    {
      "cell_type": "code",
      "metadata": {
        "id": "XnubGHyAK9IA",
        "colab_type": "code",
        "colab": {}
      },
      "source": [
        "# Helper Function  get hotcoded sequence\n",
        "def get_hot_coded_seq(sequence):\n",
        "    \"\"\"Convert a 4 base letter sequence to 4-row x-cols hot coded sequence\"\"\"\n",
        "    # initialise empty\n",
        "    hotsequence = np.zeros((len(sequence),4))\n",
        "    # set hot code 1 according to gathered sequence\n",
        "    for i in range(len(sequence)):\n",
        "        if sequence[i] == 'A':\n",
        "            hotsequence[i,0] = 1\n",
        "        elif sequence[i] == 'C':\n",
        "            hotsequence[i,1] = 1\n",
        "        elif sequence[i] == 'G':\n",
        "            hotsequence[i,2] = 1\n",
        "        elif sequence[i] == 'T':\n",
        "            hotsequence[i,3] = 1\n",
        "    # return the numpy array\n",
        "    return hotsequence\n",
        "\n",
        "# Helper function to read in the labels and seqs and store as hot encoded np array\n",
        "def read_data(infile):\n",
        "    # read file in\n",
        "    with open(infile, \"r\") as f:\n",
        "        seqs = []\n",
        "        labels = []\n",
        "        for i,l in enumerate(f):\n",
        "            l = l.rstrip()\n",
        "            l = l.split(\"\\t\")\n",
        "            seqs.append(l[1])\n",
        "            labels.append(l[0])\n",
        "    # make labels np.array\n",
        "    labels = np.array(labels)\n",
        "    # convert to one_hot_labels\n",
        "    hot_labels = keras.utils.to_categorical(labels, num_classes=4)\n",
        "    # make seqs np.array\n",
        "    hot_seqs = np.zeros( (len(seqs), 200, 4) )\n",
        "    # fill with hot encoded sequences\n",
        "    for j in range(len(seqs)):\n",
        "        hotsequence = get_hot_coded_seq(seqs[j])\n",
        "        hot_seqs[j,] = hotsequence\n",
        "    return hot_labels, hot_seqs\n",
        "\n"
      ],
      "execution_count": 0,
      "outputs": []
    },
    {
      "cell_type": "markdown",
      "metadata": {
        "id": "l8J-AlxKLLSf",
        "colab_type": "text"
      },
      "source": [
        "Now we can read in the data.\n"
      ]
    },
    {
      "cell_type": "code",
      "metadata": {
        "id": "FRT4zlKdLOlk",
        "colab_type": "code",
        "colab": {}
      },
      "source": [
        "# read data --------------------------------------------------------------------\n",
        "train_file = \"./data/pwm_seq_200bp_train_set.txt\"\n",
        "train_labels, train_seqs = read_data(train_file)\n",
        "valid_file = \"./data/pwm_seq_200bp_valid_set.txt\"\n",
        "valid_labels, valid_seqs = read_data(valid_file)"
      ],
      "execution_count": 0,
      "outputs": []
    },
    {
      "cell_type": "markdown",
      "metadata": {
        "id": "EKscmL-6LUWo",
        "colab_type": "text"
      },
      "source": [
        "Lets check how the data looks like after we read it into python and hot encoded it."
      ]
    },
    {
      "cell_type": "code",
      "metadata": {
        "id": "r0ajVoy3LTy4",
        "colab_type": "code",
        "outputId": "d8f7bb91-a017-466e-9401-99b8446f901d",
        "colab": {
          "base_uri": "https://localhost:8080/",
          "height": 312
        }
      },
      "source": [
        "# Check Data in Python ---------------------------------------------------------\n",
        "\n",
        "# check shapes\n",
        "print(\"Train Seq Shape\", train_seqs.shape)\n",
        "print(\"Train Label Shape\", train_labels.shape)\n",
        "\n",
        "# check data format\n",
        "print(\"Labels Format:\")\n",
        "print(train_labels[1:5])\n",
        "print(\"Seq Format (first 10 bp):\")\n",
        "print(train_seqs[1, 1:10,:])"
      ],
      "execution_count": 0,
      "outputs": [
        {
          "output_type": "stream",
          "text": [
            "Train Seq Shape (38000, 200, 4)\n",
            "Train Label Shape (38000, 4)\n",
            "Labels Format:\n",
            "[[1. 0. 0. 0.]\n",
            " [0. 0. 1. 0.]\n",
            " [0. 1. 0. 0.]\n",
            " [0. 0. 0. 1.]]\n",
            "Seq Format (first 10 bp):\n",
            "[[0. 0. 0. 1.]\n",
            " [0. 0. 0. 1.]\n",
            " [0. 0. 1. 0.]\n",
            " [0. 1. 0. 0.]\n",
            " [0. 0. 1. 0.]\n",
            " [0. 1. 0. 0.]\n",
            " [0. 0. 1. 0.]\n",
            " [0. 1. 0. 0.]\n",
            " [0. 1. 0. 0.]]\n"
          ],
          "name": "stdout"
        }
      ]
    },
    {
      "cell_type": "markdown",
      "metadata": {
        "id": "itcX25I4L6Gb",
        "colab_type": "text"
      },
      "source": [
        "\n",
        "The labels have a one hot encoding where every column represents a different class and in this case only one class can be active at a time.\n",
        "\n",
        "The sequences have shape [sample x sequence_length x base]. We encod the 4 DNA bases as \"channels\" a term borrowed from image analysis you will encounter a lot when working with tensorlfow. For comparison a set of 2D images would have the dimensions [sample x pixel_rows x pixel_columns x colour_channels]. A grey scale picture would have only one channel while RGB images have three. We can thus think of our sequence as a 1D image with 4 channels."
      ]
    },
    {
      "cell_type": "markdown",
      "metadata": {
        "id": "-if6bqKaSE1x",
        "colab_type": "text"
      },
      "source": [
        "## Building the Network\n",
        "\n",
        "We now define our network. We first set some global and network architecture options and put them all together in the keras sequential mode. The sequential mode is an easy wrapper for linearly stacked networks that makes your code even more concise. We just define the model to be sequential and than add/stack layer after layer. Here we use a simple convolutional architecture.\n",
        "\n",
        "* Our first layer is a 1D convolution over the input:\n",
        "  * We use a 1D convolution because we only want the filter to move along the sequence axis and map the channels to the hidden units.\n",
        "  * We start with 10 hidden units or filters or kernels which are all of length 5 (bp)\n",
        "  * We use the RELU activation function\n",
        "  * We also define the input shape and how to pad the input if necessary (see doc.)\n",
        "* We next perform max pooling where we take the maximum of a window of 5 consecutive activation values\n",
        "  * This reduces the data dimension, thus simplifying the model and speeding up further computations\n",
        "  * But it also enforces some extend of positional invariance into our model. For example, if we have a match to transcription factor motif in our sequence, we don't necessarily care where exactly this motif lies and a few bp up- or downstream shouldn't make a difference to our predictions.\n",
        "* We then \"Flatten\" the activation values to a 1 dimensional vector\n",
        "* And apply a fully connected or \"Dense\" layer connecting every value in the 1D vector to every class prediction\n",
        "  * We use the sigmoid (softmax) activation function to perform effectively a multinomial logistic regression\n",
        "\n",
        "The number of hidden units, the size of the kernel, the pooling size, but also the number and types of layers we use in the network are usually called hyperparameters. The most work in DL usually comes down to finding the right hyperparameters that let our network training converge and that give us the best possible (at least the best we are able to find) accuracies.\n",
        "\n",
        "We set some reasonable choices to begin with. But your task will be to play with these hyperparameters and see how well you can tune the model with a few adjustments."
      ]
    },
    {
      "cell_type": "code",
      "metadata": {
        "id": "L3eVN0jEL5Ev",
        "colab_type": "code",
        "colab": {}
      },
      "source": [
        "# Define the Model Architecture ------------------------------------------------\n",
        "# global options\n",
        "num_classes = 4\n",
        "\n",
        "# network architecture options\n",
        "#Can call conv1_hidden_units either filters, kernels or hidden units\n",
        "#filter_size in this example is how many bases you want it to me\n",
        "#maxpooll_width just looks at and keeps a max value of 5. Forces position invariance.\n",
        "#In example below its 10 bases looking at 5 at a time\n",
        "conv1_hidden_units = 50\n",
        "conv1_filter_size = 10\n",
        "maxpool1_width = 3\n",
        "\n",
        "# construct the model ----------------------------------------------------------\n",
        "model = Sequential()\n",
        "#Model.add (.add adds layers to your model)\n",
        "#activation is the type of activation function. non-linear function in this case everything below 1 is 0 and anything above 0 stays the same\n",
        "#input_shape this data is 200bp by 4 classes\n",
        "#padding adds 0's so they are roughly equal\n",
        "model.add(Conv1D(conv1_hidden_units, kernel_size=(conv1_filter_size), activation='relu', input_shape=(200, 4), padding='same'))\n",
        "model.add(MaxPooling1D(pool_size=maxpool1_width))\n",
        "#model.add(Dropout(rate = 0.1))\n",
        "# # for a second layer add it like this:\n",
        "model.add(Conv1D(conv1_hidden_units, kernel_size=(conv1_filter_size), activation='relu', padding='same'))\n",
        "model.add(MaxPooling1D(pool_size=maxpool1_width))\n",
        "model.add(Conv1D(conv1_hidden_units, kernel_size=(conv1_filter_size), activation='relu', padding='same'))\n",
        "model.add(MaxPooling1D(pool_size=maxpool1_width))\n",
        "#Flatten puts it into a 1D vector\n",
        "#activation function softmax makes sure the ouput of the function up to 1\n",
        "model.add(Flatten())\n",
        "model.add(Dense(num_classes, activation='softmax'))"
      ],
      "execution_count": 0,
      "outputs": []
    },
    {
      "cell_type": "markdown",
      "metadata": {
        "id": "IlU4fVZHSsdS",
        "colab_type": "text"
      },
      "source": [
        "Next we compile the model. We use adam as our optimizer. Since the classes are mutually exclusive we select the binary_crossentropy as our loss function and we want to monitor the accuracy during training.\n",
        "\n",
        "We also print a summary of our network telling us the data shapes throught the network and sumarizing the number of trainable parameters in our model."
      ]
    },
    {
      "cell_type": "code",
      "metadata": {
        "id": "OZPCH5WASxLr",
        "colab_type": "code",
        "outputId": "241635de-fbd5-4c6e-99e7-f558bbfa7fc0",
        "colab": {
          "base_uri": "https://localhost:8080/",
          "height": 434
        }
      },
      "source": [
        "# compile ----------------------------------------------------------------------\n",
        "#categorical_crossentropy you use for multiple classes\n",
        "model.compile(optimizer='adam',\n",
        "              loss='categorical_crossentropy',\n",
        "              metrics=['accuracy'])\n",
        "\n",
        "# print model summary ----------------------------------------------------------\n",
        "#conv1d had 200bp and 4 classes going in and after the first layer we have 200bp by 50 filters = 4050 parameters\n",
        "model.summary()\n",
        "\n"
      ],
      "execution_count": 0,
      "outputs": [
        {
          "output_type": "stream",
          "text": [
            "Model: \"sequential_21\"\n",
            "_________________________________________________________________\n",
            "Layer (type)                 Output Shape              Param #   \n",
            "=================================================================\n",
            "conv1d_43 (Conv1D)           (None, 200, 50)           2050      \n",
            "_________________________________________________________________\n",
            "max_pooling1d_43 (MaxPooling (None, 66, 50)            0         \n",
            "_________________________________________________________________\n",
            "conv1d_44 (Conv1D)           (None, 66, 50)            25050     \n",
            "_________________________________________________________________\n",
            "max_pooling1d_44 (MaxPooling (None, 22, 50)            0         \n",
            "_________________________________________________________________\n",
            "conv1d_45 (Conv1D)           (None, 22, 50)            25050     \n",
            "_________________________________________________________________\n",
            "max_pooling1d_45 (MaxPooling (None, 7, 50)             0         \n",
            "_________________________________________________________________\n",
            "flatten_21 (Flatten)         (None, 350)               0         \n",
            "_________________________________________________________________\n",
            "dense_21 (Dense)             (None, 4)                 1404      \n",
            "=================================================================\n",
            "Total params: 53,554\n",
            "Trainable params: 53,554\n",
            "Non-trainable params: 0\n",
            "_________________________________________________________________\n"
          ],
          "name": "stdout"
        }
      ]
    },
    {
      "cell_type": "markdown",
      "metadata": {
        "id": "PO8y82o2TFX9",
        "colab_type": "text"
      },
      "source": [
        "## Training\n",
        "\n",
        "Now that we have our model set up we can train it. We feed the model with our training sequences and labels, we define a batch size (since we are training in batch mode) and set the number of epochs (cycles through the training data) we want to train for. Five epochs should be fine for us feel free to ramp this up a bit and see if you get improvements or if the learning plateus quickly."
      ]
    },
    {
      "cell_type": "code",
      "metadata": {
        "id": "MhvQukq1TPXU",
        "colab_type": "code",
        "outputId": "086775d7-a975-4ef6-8a5b-01af880392c7",
        "colab": {
          "base_uri": "https://localhost:8080/",
          "height": 402
        }
      },
      "source": [
        "# Training Options\n",
        "#batch size is how many sequences you look at a time\n",
        "#epochs is the number of times you run it\n",
        "batch_size = 100\n",
        "epochs = 10\n",
        "\n",
        "# Train ------------------------------------------------------------------------\n",
        "#val_loss tells you the sum of how close to 1 or 0 you are for each of the classes. Just want to see it go down\n",
        "#want to see the accuracy go up\n",
        "history = model.fit(train_seqs, train_labels,\n",
        "          batch_size=batch_size,\n",
        "          epochs=epochs,\n",
        "          verbose=1,\n",
        "          validation_data=(valid_seqs, valid_labels))"
      ],
      "execution_count": 0,
      "outputs": [
        {
          "output_type": "stream",
          "text": [
            "Train on 38000 samples, validate on 1000 samples\n",
            "Epoch 1/10\n",
            "38000/38000 [==============================] - 2s 53us/sample - loss: 2.4442e-06 - acc: 1.0000 - val_loss: 0.0512 - val_acc: 0.9920\n",
            "Epoch 2/10\n",
            "38000/38000 [==============================] - 2s 49us/sample - loss: 1.9909e-06 - acc: 1.0000 - val_loss: 0.0536 - val_acc: 0.9920\n",
            "Epoch 3/10\n",
            "38000/38000 [==============================] - 2s 50us/sample - loss: 1.6224e-06 - acc: 1.0000 - val_loss: 0.0548 - val_acc: 0.9920\n",
            "Epoch 4/10\n",
            "38000/38000 [==============================] - 2s 51us/sample - loss: 1.2976e-06 - acc: 1.0000 - val_loss: 0.0567 - val_acc: 0.9920\n",
            "Epoch 5/10\n",
            "38000/38000 [==============================] - 2s 50us/sample - loss: 1.0981e-06 - acc: 1.0000 - val_loss: 0.0581 - val_acc: 0.9920\n",
            "Epoch 6/10\n",
            "38000/38000 [==============================] - 2s 49us/sample - loss: 8.4906e-07 - acc: 1.0000 - val_loss: 0.0580 - val_acc: 0.9920\n",
            "Epoch 7/10\n",
            "38000/38000 [==============================] - 2s 49us/sample - loss: 6.9231e-07 - acc: 1.0000 - val_loss: 0.0583 - val_acc: 0.9920\n",
            "Epoch 8/10\n",
            "38000/38000 [==============================] - 2s 50us/sample - loss: 5.7545e-07 - acc: 1.0000 - val_loss: 0.0594 - val_acc: 0.9920\n",
            "Epoch 9/10\n",
            "38000/38000 [==============================] - 2s 50us/sample - loss: 4.7903e-07 - acc: 1.0000 - val_loss: 0.0600 - val_acc: 0.9920\n",
            "Epoch 10/10\n",
            "38000/38000 [==============================] - 2s 51us/sample - loss: 3.7218e-07 - acc: 1.0000 - val_loss: 0.0607 - val_acc: 0.9920\n"
          ],
          "name": "stdout"
        }
      ]
    },
    {
      "cell_type": "markdown",
      "metadata": {
        "id": "j_X-3DfOQhrS",
        "colab_type": "text"
      },
      "source": [
        ""
      ]
    },
    {
      "cell_type": "markdown",
      "metadata": {
        "id": "srhT4-NcTWzz",
        "colab_type": "text"
      },
      "source": [
        "You will notice that we stored the training output in a **history** variable. We can use this variable to monitor the loss function and accuracy over the training progress."
      ]
    },
    {
      "cell_type": "code",
      "metadata": {
        "id": "aBkXtzyoTXCI",
        "colab_type": "code",
        "outputId": "9e80a00d-7e0e-44aa-ac9b-ed956278caa4",
        "colab": {
          "base_uri": "https://localhost:8080/",
          "height": 573
        }
      },
      "source": [
        "# Plot Training and Validation Loss ------------------------------\n",
        "plt.figure()\n",
        "plt.plot(history.history['loss'])\n",
        "plt.plot(history.history['val_loss'])\n",
        "plt.title('model loss')\n",
        "plt.ylabel('loss')\n",
        "plt.xlabel('epoch')\n",
        "plt.legend(['train', 'validation'])\n",
        "plt.show()\n",
        "\n",
        "# Plot Training and Validation Accuracy ------------------------------\n",
        "plt.figure()\n",
        "plt.plot(history.history['acc'])\n",
        "plt.plot(history.history['val_acc'])\n",
        "plt.title('model accuracy')\n",
        "plt.ylabel('accuracy')\n",
        "plt.xlabel('epoch')\n",
        "plt.legend(['train', 'validation'])\n",
        "plt.show()"
      ],
      "execution_count": 0,
      "outputs": [
        {
          "output_type": "display_data",
          "data": {
            "image/png": "[encoded data removed]",
            "text/plain": [
              "<Figure size 432x288 with 1 Axes>"
            ]
          },
          "metadata": {
            "tags": []
          }
        },
        {
          "output_type": "display_data",
          "data": {
            "image/png": "[encoded data removed]",
            "text/plain": [
              "<Figure size 432x288 with 1 Axes>"
            ]
          },
          "metadata": {
            "tags": []
          }
        }
      ]
    },
    {
      "cell_type": "markdown",
      "metadata": {
        "id": "J3sAKG3hV_CQ",
        "colab_type": "text"
      },
      "source": [
        "Looks alright, the training as well as the validation accuracy is climbing from epoch to epoch and slows down a little more after every epoch. It is now your task to find better hyperparameters for our network and training procedure to see how high up you can get the accuracy. For doing that, I suggest taking dl_intro.py, commenting out all the code after the training, adjust your hyperparameters and/or network architectures how you like and running it in the terminal via python dl_intro.py.\n",
        "\n",
        "Tipps:\n",
        "\n",
        "* Should we train longer?\n",
        "* Do we need more hidden layers?\n",
        "* Could we max pool over the entire sequence to get one output per filter?\n",
        "* Would a second layer be beneficial?\n",
        "* You could also bias the network architechture with some biological knowledge: How long are transcription factor binding motifs in general and what would be an appropriate filter_width then?\n",
        "\n",
        "(Hint: you can do pretty well in 5 - 10 epochs with minor tweaks!)\n"
      ]
    },
    {
      "cell_type": "markdown",
      "metadata": {
        "id": "Pl7Z7qITWNoP",
        "colab_type": "text"
      },
      "source": [
        "Evaluation and Prediction\n",
        "\n",
        "Once you are happy with you network performance or in case you want to jump ahead first and optimize later, we will evaluate our network on the held out validation data. Technically, we only optimized on the training data set but we always kept an eye on the validation data loss as well. We are discarding all nets that do well on the training but worse at the validation (overfitted), therefore we always have an intrinsic bias. The test data set is meant to have never been touched throughout the whole optimization process and we evaluate the perormance of our final model on this set to get an unbiased estimate of its performance."
      ]
    },
    {
      "cell_type": "code",
      "metadata": {
        "id": "LKJCMoPPWdkq",
        "colab_type": "code",
        "outputId": "990430de-c943-4482-d5d3-e8844a66df3b",
        "colab": {
          "base_uri": "https://localhost:8080/",
          "height": 52
        }
      },
      "source": [
        "# Evaluate ---------------------------------------------------------------------\n",
        "test_file = \"./data/pwm_seq_200bp_test_set.txt\"\n",
        "test_labels, test_seqs = read_data(test_file)\n",
        "score = model.evaluate(test_seqs, test_labels, verbose=0)\n",
        "print('Test loss:', score[0])\n",
        "print('Test accuracy:', score[1])"
      ],
      "execution_count": 0,
      "outputs": [
        {
          "output_type": "stream",
          "text": [
            "Test loss: 0.04486713627213612\n",
            "Test accuracy: 0.982\n"
          ],
          "name": "stdout"
        }
      ]
    },
    {
      "cell_type": "markdown",
      "metadata": {
        "id": "HI7MBOL9Wfek",
        "colab_type": "text"
      },
      "source": [
        "\n",
        "\n",
        "Once we are happy with our network we obviously want to employ it as well. Lets say we have a new sequence we want to classify.\n"
      ]
    },
    {
      "cell_type": "code",
      "metadata": {
        "id": "Aq185u3_Wiar",
        "colab_type": "code",
        "outputId": "e5959fe3-63c5-4061-900d-71ed2ec8eb47",
        "colab": {
          "base_uri": "https://localhost:8080/",
          "height": 193
        }
      },
      "source": [
        "# Predictions ------------------------------------------------------------------\n",
        "# read test sequences again\n",
        "with open(test_file, \"r\") as f:\n",
        "    seqs = []\n",
        "    labels = []\n",
        "    for i,l in enumerate(f):\n",
        "        l = l.rstrip()\n",
        "        l = l.split(\"\\t\")\n",
        "        seqs.append(l[1])\n",
        "        labels.append(l[0])\n",
        "\n",
        "# select a single sequence\n",
        "single_seq = seqs[0]\n",
        "single_label = labels[0]\n",
        "\n",
        "print(\"Sequence: \" + single_seq)\n",
        "\n",
        "# hot encode        \n",
        "hotseq = get_hot_coded_seq(single_seq)\n",
        "\n",
        "# calculate predictions\n",
        "single_prediction = model.predict(np.expand_dims(hotseq, axis=0))\n",
        "print(\"\\nClass Prediction \\\"Probability\\\":\")\n",
        "print(\"\\tClass 0 = %s\" % single_prediction[0][0])\n",
        "print(\"\\tClass 1 = %s\" % single_prediction[0][1])\n",
        "print(\"\\tClass 2 = %s\" % single_prediction[0][2])\n",
        "print(\"\\tClass 3 = %s\" % single_prediction[0][3])\n",
        "\n",
        "# print the true class\n",
        "print(\"\\nTrue Class: \" + single_label)\n"
      ],
      "execution_count": 0,
      "outputs": [
        {
          "output_type": "stream",
          "text": [
            "Sequence: ATGGCTGATAATGACGATTGTACAGATGGTGGATGAGATTGCCTCGTCCCGGCAGCATTACCCCCTGGTGGCAACGGCCACCAGGGGGCAATAAATCTGTGTCTTATCTCCGAGACCAAACAATTCCACAGCCTCTTATACAGCACCGAATGGACCGCCCCCTGGTGGCCAGGTATCGTCGAGGGCTCAATTAAACTCCT\n",
            "\n",
            "Class Prediction \"Probability\":\n",
            "\tClass 0 = 6.4966355e-10\n",
            "\tClass 1 = 4.1489268e-10\n",
            "\tClass 2 = 0.000101729216\n",
            "\tClass 3 = 0.9998983\n",
            "\n",
            "True Class: 3\n"
          ],
          "name": "stdout"
        }
      ]
    },
    {
      "cell_type": "code",
      "metadata": {
        "id": "R8QUuQ7hWzSG",
        "colab_type": "code",
        "outputId": "a8a7abf3-efb0-4135-e991-5b41d972552f",
        "colab": {
          "base_uri": "https://localhost:8080/",
          "height": 86
        }
      },
      "source": [
        "# or just run all predictions for \n",
        "all_test_predictions = model.predict(test_seqs)\n",
        "print(all_test_predictions.shape)\n",
        "print(all_test_predictions[5:8])"
      ],
      "execution_count": 0,
      "outputs": [
        {
          "output_type": "stream",
          "text": [
            "(1000, 4)\n",
            "[[2.7337469e-11 1.0187924e-06 9.9999869e-01 2.2955918e-07]\n",
            " [7.6224779e-08 6.3668665e-07 1.7922590e-05 9.9998140e-01]\n",
            " [6.4601805e-03 9.9353987e-01 1.0349394e-13 2.3186862e-13]]\n"
          ],
          "name": "stdout"
        }
      ]
    },
    {
      "cell_type": "markdown",
      "metadata": {
        "id": "SmsbE-BWXbcN",
        "colab_type": "text"
      },
      "source": [
        "\n",
        "##Inspecting Learned Filters\n",
        "\n",
        "Now that we have a reasonably working model, we also want to inspect and see what the net has learned. In applications, we often don't care what the network has learned as long as it performs well and outperforms our competitors. For many research problems however, we are exactly interested in what the network has learned. What features distinguish a cat from a dog or if it comes to decision making (e.g. health care or self driving cars), we obviously want to be able to understand and be able to justify why a certain decision has been chosen and learn how to correct missbehavior.\n",
        "\n",
        "In genomics we usually want to learn what sequence features distinguish the sequences from one another and map them back to biological properties and factors. The easiest way is to just plot the filter weights. In the first convolutional layer, our filters are just like position weight matrices, multiplying every base at every position with a learned weight and summing the value up (plus a bias and pipe it through the RELU activation function). Unfortunatly, this becomes less straight forward to interpret in deeper layers. There are ways of back engineering and learning the importance of filters in higher layers (e.g. https://github.com/kundajelab/deeplift) but we concern ourself only with the simple first layer here.\n",
        "\n",
        "We can get the weigths of the filters from the model, save them as .txt files and plot them out. I wrote a wrapper to plot the filter weigths for you in R. Run the code, check the filter_X.txt files and look at the plots and try to interpret them. In Colab runs you probaly want to download them.\n",
        "\n",
        "* Do any look like transciption factor binding sites you know?\n",
        "* Do you recognize any sequence features that are not binding motifs?\n",
        "* Can you simplify the sequences/ motifs from the plot an query them in a transcription factor binding motif database (http://jaspar.genereg.net/)\n",
        "* What is your best bet: Which sequence motifs did we use for simulating the sequence classes?\n",
        "* Check the input data. Split them up by class into text files with only the sequences one sequence per line (see example). Query them in standard motif analysis tools (e.g. http://rsat.sb-roscoff.fr/oligo-analysis_form.cgi or http://meme-suite.org/tools/meme). Do these tools find different or similar things?\n"
      ]
    },
    {
      "cell_type": "code",
      "metadata": {
        "id": "ncB7-8g-Ybu3",
        "colab_type": "code",
        "colab": {}
      },
      "source": [
        "# Inspect weights --------------------------------------------------------------\n",
        "model_weights = model.get_weights()\n",
        "filter_weights = model_weights[0]\n",
        "\n",
        "# save conv filter weights\n",
        "for k in range(model_weights[0].shape[2]):\n",
        "    # save single filter weights\n",
        "    np.savetxt((\"./visualize/filter_%s.txt\" % k), filter_weights[:,:,k], delimiter=\"\\t\")"
      ],
      "execution_count": 0,
      "outputs": []
    },
    {
      "cell_type": "code",
      "metadata": {
        "id": "fhlssg9kaIiy",
        "colab_type": "code",
        "outputId": "bac20344-f98c-428a-ddf2-fae6dd4705ed",
        "colab": {
          "base_uri": "https://localhost:8080/",
          "height": 1000
        }
      },
      "source": [
        "%%bash\n",
        "\n",
        "# Plot them using the supplied R script\n",
        "Rscript ./helper/plot_sequence_kernel_weights_per_dir.R ./visualize ./visualize plot_weight 5 2.5"
      ],
      "execution_count": 0,
      "outputs": [
        {
          "output_type": "stream",
          "text": [
            " [1] \"filter_0.txt\"  \"filter_1.txt\"  \"filter_10.txt\" \"filter_11.txt\"\n",
            " [5] \"filter_12.txt\" \"filter_13.txt\" \"filter_14.txt\" \"filter_15.txt\"\n",
            " [9] \"filter_16.txt\" \"filter_17.txt\" \"filter_18.txt\" \"filter_19.txt\"\n",
            "[13] \"filter_2.txt\"  \"filter_20.txt\" \"filter_21.txt\" \"filter_22.txt\"\n",
            "[17] \"filter_23.txt\" \"filter_24.txt\" \"filter_25.txt\" \"filter_26.txt\"\n",
            "[21] \"filter_27.txt\" \"filter_28.txt\" \"filter_29.txt\" \"filter_3.txt\" \n",
            "[25] \"filter_30.txt\" \"filter_31.txt\" \"filter_32.txt\" \"filter_33.txt\"\n",
            "[29] \"filter_34.txt\" \"filter_35.txt\" \"filter_36.txt\" \"filter_37.txt\"\n",
            "[33] \"filter_38.txt\" \"filter_39.txt\" \"filter_4.txt\"  \"filter_40.txt\"\n",
            "[37] \"filter_41.txt\" \"filter_42.txt\" \"filter_43.txt\" \"filter_44.txt\"\n",
            "[41] \"filter_45.txt\" \"filter_46.txt\" \"filter_47.txt\" \"filter_48.txt\"\n",
            "[45] \"filter_49.txt\" \"filter_5.txt\"  \"filter_6.txt\"  \"filter_7.txt\" \n",
            "[49] \"filter_8.txt\"  \"filter_9.txt\" \n",
            "[1] \"Saving Plot filter_0.png\"\n",
            "[1] \"Saving Plot filter_1.png\"\n",
            "[1] \"Saving Plot filter_10.png\"\n",
            "[1] \"Saving Plot filter_11.png\"\n",
            "[1] \"Saving Plot filter_12.png\"\n",
            "[1] \"Saving Plot filter_13.png\"\n",
            "[1] \"Saving Plot filter_14.png\"\n",
            "[1] \"Saving Plot filter_15.png\"\n",
            "[1] \"Saving Plot filter_16.png\"\n",
            "[1] \"Saving Plot filter_17.png\"\n",
            "[1] \"Saving Plot filter_18.png\"\n",
            "[1] \"Saving Plot filter_19.png\"\n",
            "[1] \"Saving Plot filter_2.png\"\n",
            "[1] \"Saving Plot filter_20.png\"\n",
            "[1] \"Saving Plot filter_21.png\"\n",
            "[1] \"Saving Plot filter_22.png\"\n",
            "[1] \"Saving Plot filter_23.png\"\n",
            "[1] \"Saving Plot filter_24.png\"\n",
            "[1] \"Saving Plot filter_25.png\"\n",
            "[1] \"Saving Plot filter_26.png\"\n",
            "[1] \"Saving Plot filter_27.png\"\n",
            "[1] \"Saving Plot filter_28.png\"\n",
            "[1] \"Saving Plot filter_29.png\"\n",
            "[1] \"Saving Plot filter_3.png\"\n",
            "[1] \"Saving Plot filter_30.png\"\n",
            "[1] \"Saving Plot filter_31.png\"\n",
            "[1] \"Saving Plot filter_32.png\"\n",
            "[1] \"Saving Plot filter_33.png\"\n",
            "[1] \"Saving Plot filter_34.png\"\n",
            "[1] \"Saving Plot filter_35.png\"\n",
            "[1] \"Saving Plot filter_36.png\"\n",
            "[1] \"Saving Plot filter_37.png\"\n",
            "[1] \"Saving Plot filter_38.png\"\n",
            "[1] \"Saving Plot filter_39.png\"\n",
            "[1] \"Saving Plot filter_4.png\"\n",
            "[1] \"Saving Plot filter_40.png\"\n",
            "[1] \"Saving Plot filter_41.png\"\n",
            "[1] \"Saving Plot filter_42.png\"\n",
            "[1] \"Saving Plot filter_43.png\"\n",
            "[1] \"Saving Plot filter_44.png\"\n",
            "[1] \"Saving Plot filter_45.png\"\n",
            "[1] \"Saving Plot filter_46.png\"\n",
            "[1] \"Saving Plot filter_47.png\"\n",
            "[1] \"Saving Plot filter_48.png\"\n",
            "[1] \"Saving Plot filter_49.png\"\n",
            "[1] \"Saving Plot filter_5.png\"\n",
            "[1] \"Saving Plot filter_6.png\"\n",
            "[1] \"Saving Plot filter_7.png\"\n",
            "[1] \"Saving Plot filter_8.png\"\n",
            "[1] \"Saving Plot filter_9.png\"\n",
            "[1] \"Passing: 50  Skipped: 0\"\n"
          ],
          "name": "stdout"
        }
      ]
    },
    {
      "cell_type": "markdown",
      "metadata": {
        "id": "M8QJwyRZa7NJ",
        "colab_type": "text"
      },
      "source": [
        "Now thay don't look the nice motifs with information content we are used to look at from ChIP-seq analysis and such. Our filters have positive and negative values all contributing to the \"matching score\" of a filter at a given position. In contrast, information content motifs don't have negative values just less informative bases that occur less often in a, let's say, binding site. Luckily there is a [transformation](https://www.biorxiv.org/content/10.1101/163220v2) we can apply to the filter weights to derive information content. For our purposes her just use the helper script that implements the transformation."
      ]
    },
    {
      "cell_type": "code",
      "metadata": {
        "id": "VdQK0t8vbsJn",
        "colab_type": "code",
        "outputId": "e9f428c1-2410-4509-8d41-1b6b348956cd",
        "colab": {
          "base_uri": "https://localhost:8080/",
          "height": 1000
        }
      },
      "source": [
        "%%bash\n",
        "\n",
        "# Plot ICM like motifs using the supplied R script\n",
        "Rscript ./helper/plot_sequence_kernel_icms_per_dir.R ./visualize ./visualize plot_motif 5 2.5"
      ],
      "execution_count": 0,
      "outputs": [
        {
          "output_type": "stream",
          "text": [
            " [1] \"filter_0.txt\"  \"filter_1.txt\"  \"filter_10.txt\" \"filter_11.txt\"\n",
            " [5] \"filter_12.txt\" \"filter_13.txt\" \"filter_14.txt\" \"filter_15.txt\"\n",
            " [9] \"filter_16.txt\" \"filter_17.txt\" \"filter_18.txt\" \"filter_19.txt\"\n",
            "[13] \"filter_2.txt\"  \"filter_20.txt\" \"filter_21.txt\" \"filter_22.txt\"\n",
            "[17] \"filter_23.txt\" \"filter_24.txt\" \"filter_25.txt\" \"filter_26.txt\"\n",
            "[21] \"filter_27.txt\" \"filter_28.txt\" \"filter_29.txt\" \"filter_3.txt\" \n",
            "[25] \"filter_30.txt\" \"filter_31.txt\" \"filter_32.txt\" \"filter_33.txt\"\n",
            "[29] \"filter_34.txt\" \"filter_35.txt\" \"filter_36.txt\" \"filter_37.txt\"\n",
            "[33] \"filter_38.txt\" \"filter_39.txt\" \"filter_4.txt\"  \"filter_40.txt\"\n",
            "[37] \"filter_41.txt\" \"filter_42.txt\" \"filter_43.txt\" \"filter_44.txt\"\n",
            "[41] \"filter_45.txt\" \"filter_46.txt\" \"filter_47.txt\" \"filter_48.txt\"\n",
            "[45] \"filter_49.txt\" \"filter_5.txt\"  \"filter_6.txt\"  \"filter_7.txt\" \n",
            "[49] \"filter_8.txt\"  \"filter_9.txt\" \n",
            "[1] \"Saving Plot filter_0.png\"\n",
            "[1] \"Saving Plot filter_1.png\"\n",
            "[1] \"Saving Plot filter_10.png\"\n",
            "[1] \"Saving Plot filter_11.png\"\n",
            "[1] \"Saving Plot filter_12.png\"\n",
            "[1] \"Saving Plot filter_13.png\"\n",
            "[1] \"Saving Plot filter_14.png\"\n",
            "[1] \"Saving Plot filter_15.png\"\n",
            "[1] \"Saving Plot filter_16.png\"\n",
            "[1] \"Saving Plot filter_17.png\"\n",
            "[1] \"Saving Plot filter_18.png\"\n",
            "[1] \"Saving Plot filter_19.png\"\n",
            "[1] \"Saving Plot filter_2.png\"\n",
            "[1] \"Saving Plot filter_20.png\"\n",
            "[1] \"Saving Plot filter_21.png\"\n",
            "[1] \"Saving Plot filter_22.png\"\n",
            "[1] \"Saving Plot filter_23.png\"\n",
            "[1] \"Saving Plot filter_24.png\"\n",
            "[1] \"Saving Plot filter_25.png\"\n",
            "[1] \"Saving Plot filter_26.png\"\n",
            "[1] \"Saving Plot filter_27.png\"\n",
            "[1] \"Saving Plot filter_28.png\"\n",
            "[1] \"Saving Plot filter_29.png\"\n",
            "[1] \"Saving Plot filter_3.png\"\n",
            "[1] \"Saving Plot filter_30.png\"\n",
            "[1] \"Saving Plot filter_31.png\"\n",
            "[1] \"Saving Plot filter_32.png\"\n",
            "[1] \"Saving Plot filter_33.png\"\n",
            "[1] \"Saving Plot filter_34.png\"\n",
            "[1] \"Saving Plot filter_35.png\"\n",
            "[1] \"Saving Plot filter_36.png\"\n",
            "[1] \"Saving Plot filter_37.png\"\n",
            "[1] \"Saving Plot filter_38.png\"\n",
            "[1] \"Saving Plot filter_39.png\"\n",
            "[1] \"Saving Plot filter_4.png\"\n",
            "[1] \"Saving Plot filter_40.png\"\n",
            "[1] \"Saving Plot filter_41.png\"\n",
            "[1] \"Saving Plot filter_42.png\"\n",
            "[1] \"Saving Plot filter_43.png\"\n",
            "[1] \"Saving Plot filter_44.png\"\n",
            "[1] \"Saving Plot filter_45.png\"\n",
            "[1] \"Saving Plot filter_46.png\"\n",
            "[1] \"Saving Plot filter_47.png\"\n",
            "[1] \"Saving Plot filter_48.png\"\n",
            "[1] \"Saving Plot filter_49.png\"\n",
            "[1] \"Saving Plot filter_5.png\"\n",
            "[1] \"Saving Plot filter_6.png\"\n",
            "[1] \"Saving Plot filter_7.png\"\n",
            "[1] \"Saving Plot filter_8.png\"\n",
            "[1] \"Saving Plot filter_9.png\"\n",
            "[1] \"Passing: 50  Skipped: 0\"\n"
          ],
          "name": "stdout"
        }
      ]
    },
    {
      "cell_type": "markdown",
      "metadata": {
        "id": "IIPoJryvdiwa",
        "colab_type": "text"
      },
      "source": [
        "A little wrapper to zip all plots and filter weigths into a tar.gz. Gownload them from the files menu."
      ]
    },
    {
      "cell_type": "code",
      "metadata": {
        "id": "eQC9DTgZdi8N",
        "colab_type": "code",
        "outputId": "a1dc1f8b-1555-4a1e-b146-9812b262213f",
        "colab": {
          "base_uri": "https://localhost:8080/",
          "height": 1000
        }
      },
      "source": [
        "%%bash\n",
        "\n",
        "tar czvf visualize.tar.gz ./visualize "
      ],
      "execution_count": 0,
      "outputs": [
        {
          "output_type": "stream",
          "text": [
            "./visualize/\n",
            "./visualize/filter_0.txt\n",
            "./visualize/filter_48.txt\n",
            "./visualize/plot_weight_filter_4.png\n",
            "./visualize/plot_motif_filter_0.png\n",
            "./visualize/plot_motif_filter_44.png\n",
            "./visualize/filter_45.txt\n",
            "./visualize/filter_6.txt\n",
            "./visualize/filter_47.txt\n",
            "./visualize/filter_12.txt\n",
            "./visualize/plot_motif_filter_30.png\n",
            "./visualize/filter_13.txt\n",
            "./visualize/plot_weight_filter_17.png\n",
            "./visualize/plot_weight_filter_47.png\n",
            "./visualize/plot_motif_filter_3.png\n",
            "./visualize/plot_weight_filter_37.png\n",
            "./visualize/plot_motif_filter_46.png\n",
            "./visualize/plot_motif_filter_25.png\n",
            "./visualize/plot_motif_filter_17.png\n",
            "./visualize/plot_motif_filter_9.png\n",
            "./visualize/plot_weight_filter_11.png\n",
            "./visualize/plot_motif_filter_12.png\n",
            "./visualize/plot_motif_filter_32.png\n",
            "./visualize/filter_19.txt\n",
            "./visualize/filter_22.txt\n",
            "./visualize/filter_30.txt\n",
            "./visualize/filter_10.txt\n",
            "./visualize/filter_31.txt\n",
            "./visualize/plot_motif_filter_29.png\n",
            "./visualize/plot_weight_filter_24.png\n",
            "./visualize/plot_motif_filter_42.png\n",
            "./visualize/filter_11.txt\n",
            "./visualize/filter_27.txt\n",
            "./visualize/plot_weight_filter_6.png\n",
            "./visualize/plot_motif_filter_1.png\n",
            "./visualize/plot_motif_filter_36.png\n",
            "./visualize/plot_motif_filter_22.png\n",
            "./visualize/plot_motif_filter_11.png\n",
            "./visualize/filter_7.txt\n",
            "./visualize/plot_weight_filter_3.png\n",
            "./visualize/filter_36.txt\n",
            "./visualize/plot_motif_filter_39.png\n",
            "./visualize/plot_weight_filter_15.png\n",
            "./visualize/plot_weight_filter_9.png\n",
            "./visualize/plot_motif_filter_21.png\n",
            "./visualize/plot_weight_filter_16.png\n",
            "./visualize/filter_20.txt\n",
            "./visualize/plot_motif_filter_37.png\n",
            "./visualize/plot_weight_filter_36.png\n",
            "./visualize/plot_weight_filter_28.png\n",
            "./visualize/plot_weight_filter_46.png\n",
            "./visualize/filter_38.txt\n",
            "./visualize/filter_18.txt\n",
            "./visualize/plot_weight_filter_27.png\n",
            "./visualize/filter_28.txt\n",
            "./visualize/plot_weight_filter_21.png\n",
            "./visualize/filter_29.txt\n",
            "./visualize/filter_23.txt\n",
            "./visualize/plot_motif_filter_20.png\n",
            "./visualize/filter_8.txt\n",
            "./visualize/filter_39.txt\n",
            "./visualize/filter_2.txt\n",
            "./visualize/filter_42.txt\n",
            "./visualize/filter_14.txt\n",
            "./visualize/filter_25.txt\n",
            "./visualize/plot_motif_filter_14.png\n",
            "./visualize/filter_3.txt\n",
            "./visualize/plot_motif_filter_4.png\n",
            "./visualize/plot_weight_filter_12.png\n",
            "./visualize/filter_33.txt\n",
            "./visualize/plot_weight_filter_49.png\n",
            "./visualize/plot_motif_filter_47.png\n",
            "./visualize/plot_weight_filter_34.png\n",
            "./visualize/plot_motif_filter_10.png\n",
            "./visualize/filter_49.txt\n",
            "./visualize/plot_motif_filter_45.png\n",
            "./visualize/plot_motif_filter_31.png\n",
            "./visualize/plot_motif_filter_5.png\n",
            "./visualize/plot_weight_filter_2.png\n",
            "./visualize/plot_weight_filter_23.png\n",
            "./visualize/plot_weight_filter_1.png\n",
            "./visualize/filter_35.txt\n",
            "./visualize/plot_motif_filter_18.png\n",
            "./visualize/plot_weight_filter_30.png\n",
            "./visualize/plot_motif_filter_15.png\n",
            "./visualize/plot_motif_filter_33.png\n",
            "./visualize/plot_motif_filter_7.png\n",
            "./visualize/plot_motif_filter_43.png\n",
            "./visualize/plot_motif_filter_2.png\n",
            "./visualize/plot_weight_filter_25.png\n",
            "./visualize/filter_44.txt\n",
            "./visualize/filter_5.txt\n",
            "./visualize/filter_24.txt\n",
            "./visualize/plot_weight_filter_32.png\n",
            "./visualize/plot_weight_filter_0.png\n",
            "./visualize/plot_weight_filter_18.png\n",
            "./visualize/plot_motif_filter_40.png\n",
            "./visualize/plot_weight_filter_43.png\n",
            "./visualize/plot_weight_filter_48.png\n",
            "./visualize/plot_motif_filter_16.png\n",
            "./visualize/plot_motif_filter_19.png\n",
            "./visualize/filter_40.txt\n",
            "./visualize/filter_17.txt\n",
            "./visualize/plot_motif_filter_38.png\n",
            "./visualize/filter_15.txt\n",
            "./visualize/plot_motif_filter_8.png\n",
            "./visualize/plot_weight_filter_10.png\n",
            "./visualize/filter_16.txt\n",
            "./visualize/plot_weight_filter_31.png\n",
            "./visualize/filter_43.txt\n",
            "./visualize/plot_weight_filter_44.png\n",
            "./visualize/plot_weight_filter_39.png\n",
            "./visualize/plot_weight_filter_14.png\n",
            "./visualize/filter_37.txt\n",
            "./visualize/plot_weight_filter_19.png\n",
            "./visualize/plot_motif_filter_34.png\n",
            "./visualize/plot_weight_filter_41.png\n",
            "./visualize/plot_weight_filter_35.png\n",
            "./visualize/filter_32.txt\n",
            "./visualize/plot_motif_filter_49.png\n",
            "./visualize/plot_motif_filter_26.png\n",
            "./visualize/plot_weight_filter_5.png\n",
            "./visualize/filter_21.txt\n",
            "./visualize/plot_weight_filter_8.png\n",
            "./visualize/plot_motif_filter_41.png\n",
            "./visualize/filter_41.txt\n",
            "./visualize/plot_motif_filter_48.png\n",
            "./visualize/filter_4.txt\n",
            "./visualize/plot_motif_filter_28.png\n",
            "./visualize/filter_34.txt\n",
            "./visualize/plot_weight_filter_40.png\n",
            "./visualize/plot_weight_filter_29.png\n",
            "./visualize/plot_motif_filter_24.png\n",
            "./visualize/plot_weight_filter_26.png\n",
            "./visualize/plot_weight_filter_38.png\n",
            "./visualize/filter_9.txt\n",
            "./visualize/filter_1.txt\n",
            "./visualize/plot_motif_filter_6.png\n",
            "./visualize/plot_weight_filter_33.png\n",
            "./visualize/plot_motif_filter_27.png\n",
            "./visualize/plot_weight_filter_42.png\n",
            "./visualize/plot_motif_filter_35.png\n",
            "./visualize/plot_weight_filter_22.png\n",
            "./visualize/plot_motif_filter_23.png\n",
            "./visualize/plot_weight_filter_20.png\n",
            "./visualize/plot_weight_filter_7.png\n",
            "./visualize/filter_26.txt\n",
            "./visualize/filter_46.txt\n",
            "./visualize/plot_weight_filter_45.png\n",
            "./visualize/plot_motif_filter_13.png\n",
            "./visualize/plot_weight_filter_13.png\n"
          ],
          "name": "stdout"
        }
      ]
    },
    {
      "cell_type": "markdown",
      "metadata": {
        "id": "T6-X-0dZc6IQ",
        "colab_type": "text"
      },
      "source": [
        "## Visualize Importance\n",
        "\n",
        "A popular approach to visualize and start to interpret the importance of sequence features is the so called **Saliency**. This term has been introduced to descripe the gradient of the model output with respect to a sequence input. In other words, how much would the prediction change if we were to change a single base pair. Here change mean changing the *1* in the hot encoding to a marginally different value e.g. *1.00001*. \n",
        "\n",
        "\n",
        "I nicked this function and visualization was adapted from the James Zhou's [Primer on Genomics](https://colab.research.google.com/drive/17E4h5aAOioh5DiTo7MZg4hpL6Z_0FyWr#scrollTo=WNT_Au-dAP8a) colab notebook. Check it out and the paper is worth a read.\n",
        "\n",
        "\n",
        "In summary, what we are doing here is calculating the gradient of the model ouput with respect to a single sequence input. We then multiply this gradient with the one hot endoded sequence, effectively zeroing all non present bases, and then sum this over the 4 output classes and trim everything below zero (for pure ease of visualization)."
      ]
    },
    {
      "cell_type": "code",
      "metadata": {
        "id": "6ocZEt_2eZcw",
        "colab_type": "code",
        "colab": {}
      },
      "source": [
        "import tensorflow.keras.backend as K\n",
        "\n",
        "def compute_salient_bases(model, x):\n",
        "  \n",
        "  input_tensors = [model.input]\n",
        "  gradients = model.optimizer.get_gradients(model.output, model.input)\n",
        "  compute_gradients = K.function(inputs = input_tensors, outputs = gradients)\n",
        "  \n",
        "  gradients = compute_gradients([x])[0][0]\n",
        "  x = np.squeeze(x, axis = 0)  \n",
        "  sal = np.clip(np.sum(np.multiply(gradients,x), axis=1),a_min=0, a_max=None)\n",
        "\n",
        "  return sal"
      ],
      "execution_count": 0,
      "outputs": []
    },
    {
      "cell_type": "code",
      "metadata": {
        "id": "vg5oB0RdgzgS",
        "colab_type": "code",
        "outputId": "85bcae42-80e0-439b-a807-948dd847c42e",
        "colab": {
          "base_uri": "https://localhost:8080/",
          "height": 52
        }
      },
      "source": [
        "# use a single sequence again (index 1 works well)\n",
        "selected_index = 15\n",
        "\n",
        "single_seq = seqs[selected_index]\n",
        "\n",
        "# hot encode        \n",
        "hotseq = get_hot_coded_seq(single_seq)\n",
        "\n",
        "hotseq = np.expand_dims(hotseq, axis=0)\n",
        "\n",
        "# calculate predictions\n",
        "single_prediction = model.predict(hotseq)\n",
        "\n",
        "print(\"Prediction: %s\" % single_prediction)\n",
        "\n",
        "print(\"True Label: %s\" % labels[selected_index])"
      ],
      "execution_count": 0,
      "outputs": [
        {
          "output_type": "stream",
          "text": [
            "Prediction: [[4.1074711e-07 1.1690945e-06 9.9762874e-05 9.9989867e-01]]\n",
            "True Label: 3\n"
          ],
          "name": "stdout"
        }
      ]
    },
    {
      "cell_type": "code",
      "metadata": {
        "id": "fTCrGCS6mMKP",
        "colab_type": "code",
        "outputId": "9eafa005-f4f4-4fd2-9df5-f50824ea03cd",
        "colab": {
          "base_uri": "https://localhost:8080/",
          "height": 261
        }
      },
      "source": [
        "sal = compute_salient_bases(model, hotseq)\n",
        "\n",
        "\n",
        "plt.figure(figsize=[25,3])\n",
        "barlist = plt.bar(np.arange(len(sal)), sal)\n",
        "plt.xlabel('Bases')\n",
        "plt.ylabel('Saliency values')\n",
        "plt.xticks(np.arange(len(sal)), list(single_seq));\n",
        "plt.title('Saliency map for bases in one of the test sequences');"
      ],
      "execution_count": 0,
      "outputs": [
        {
          "output_type": "display_data",
          "data": {
            "image/png": "[encoded data removed]",
            "text/plain": [
              "<Figure size 1800x216 with 1 Axes>"
            ]
          },
          "metadata": {
            "tags": []
          }
        }
      ]
    },
    {
      "cell_type": "code",
      "metadata": {
        "id": "owNu4dgTOzHr",
        "colab_type": "code",
        "colab": {}
      },
      "source": [
        ""
      ],
      "execution_count": 0,
      "outputs": []
    },
    {
      "cell_type": "markdown",
      "metadata": {
        "id": "NKqSNnuhXkg4",
        "colab_type": "text"
      },
      "source": [
        "## Further\n",
        "\n",
        "On the github page you wild find links to a slightly more difficult set, using more motifs and 300 bp sequences.\n",
        "You can adapt the notebook to run on those.\n"
      ]
    }
  ]
}